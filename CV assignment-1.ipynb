{
 "cells": [
  {
   "cell_type": "raw",
   "id": "fbf9236b",
   "metadata": {},
   "source": [
    "1. What exactly is a feature?"
   ]
  },
  {
   "cell_type": "raw",
   "id": "80819222",
   "metadata": {},
   "source": [
    "ans:A feature is a transformation of the data which is designed to make it easier to model.\n",
    "A feature is a characteristic or property of a product, service, or system that can be used to distinguish it from other similar products, services, or systems. Features can be functional, aesthetic, or both, and usually provide a benefit to the use"
   ]
  },
  {
   "cell_type": "code",
   "execution_count": null,
   "id": "8bf42cf7",
   "metadata": {},
   "outputs": [],
   "source": []
  },
  {
   "cell_type": "code",
   "execution_count": null,
   "id": "a2461d9d",
   "metadata": {},
   "outputs": [],
   "source": []
  },
  {
   "cell_type": "raw",
   "id": "0614ad6e",
   "metadata": {},
   "source": [
    "2. For a top edge detector, write out the convolutional kernel matrix?"
   ]
  },
  {
   "cell_type": "raw",
   "id": "37859d11",
   "metadata": {},
   "source": [
    "ans:\n",
    "[[-1,-1,-1],\n",
    "\n",
    "[-1, 8,-1],\n",
    "\n",
    "[-1,-1,-1]]"
   ]
  },
  {
   "cell_type": "code",
   "execution_count": null,
   "id": "559226dc",
   "metadata": {},
   "outputs": [],
   "source": []
  },
  {
   "cell_type": "code",
   "execution_count": null,
   "id": "7770a907",
   "metadata": {},
   "outputs": [],
   "source": []
  },
  {
   "cell_type": "raw",
   "id": "38b7426f",
   "metadata": {},
   "source": [
    "3. Describe the mathematical operation that a 3x3 kernel performs on a single pixel in an image."
   ]
  },
  {
   "cell_type": "raw",
   "id": "74621a9f",
   "metadata": {},
   "source": [
    "ans:\n",
    "A 3x3 kernel performs a convolution operation on a single pixel in an image. In this operation, the kernel moves across the image in a sliding window, multiplying the elements of the kernel with the corresponding pixels in the image. The result of this multiplication is then added together and stored as a new value for the center pixel in the window. This process is repeated for each pixel in the image. The resulting new image is a filtered version of the original image."
   ]
  },
  {
   "cell_type": "code",
   "execution_count": null,
   "id": "12685877",
   "metadata": {},
   "outputs": [],
   "source": []
  },
  {
   "cell_type": "raw",
   "id": "8c211a50",
   "metadata": {},
   "source": [
    "4. What is the significance of a convolutional kernel added to a 3x3 matrix of zeroes?"
   ]
  },
  {
   "cell_type": "raw",
   "id": "b1c58117",
   "metadata": {},
   "source": [
    "ans:\n",
    "A convolutional kernel added to a 3x3 matrix of zeroes is a way to filter an image, as it will apply a certain transformation to the image so that only certain features stand out. For example, it can be used to detect edges, blurring, sharpening, and other features. The kernel is essentially a set of weights that the system uses to determine which parts of the image should be kept or discarded."
   ]
  },
  {
   "cell_type": "code",
   "execution_count": null,
   "id": "42765977",
   "metadata": {},
   "outputs": [],
   "source": []
  },
  {
   "cell_type": "raw",
   "id": "26ca6e2c",
   "metadata": {},
   "source": [
    "5. What exactly is padding?"
   ]
  },
  {
   "cell_type": "raw",
   "id": "beadc4e1",
   "metadata": {},
   "source": [
    "ans:\n",
    "Padding is the process of adding extra data to a message before transmission to help protect the message from being accessed by unauthorized users. Padding is useful for ensuring that the data being transmitted is not tampered with or altered in transit. Padding can also be used to make the message harder to decode, which can help protect the information from being accessed by unauthorized users.\n",
    "\n",
    "Padding is the additional pixels that are added around the outside of the image, allows the kernel to be applied to the edge of the image for a convolution."
   ]
  },
  {
   "cell_type": "code",
   "execution_count": null,
   "id": "0ed49e4b",
   "metadata": {},
   "outputs": [],
   "source": []
  },
  {
   "cell_type": "raw",
   "id": "36f1db55",
   "metadata": {},
   "source": [
    "6. What is the concept of stride?"
   ]
  },
  {
   "cell_type": "raw",
   "id": "19c77a0f",
   "metadata": {},
   "source": [
    "ans:\n",
    " Stride is a concept used in convolutional neural networks (CNNs) to reduce the number of parameters and computational complexity. It is the number of pixels shifted in the input matrix when performing a convolution operation. Stride can be used to control the size of the output matrix and the degree of overlap between neighbouring patches.\n",
    "Stride refers to how many pixels at a time the kernel is moved during the convolution."
   ]
  },
  {
   "cell_type": "code",
   "execution_count": null,
   "id": "d84b4da7",
   "metadata": {},
   "outputs": [],
   "source": []
  },
  {
   "cell_type": "raw",
   "id": "cd66bc35",
   "metadata": {},
   "source": [
    "7. What are the shapes of PyTorch&#39;s 2D convolution&#39;s input and weight parameters?"
   ]
  },
  {
   "cell_type": "raw",
   "id": "9ad4df3c",
   "metadata": {},
   "source": [
    "ans:\n",
    "The input parameters of PyTorch's 2D convolution are typically 4-dimensional tensors of shape (batch_size, in_channels, height, width). The weight parameters are typically 4-dimensional tensors of shape (out_channels, in_channels, kernel_height, kernel_width).\n",
    "input: input tensor of shape (minibatch, in_channels, iH, iW)\n",
    "weight: filters of shape (out_channels, in_channels, kH, kW)"
   ]
  },
  {
   "cell_type": "code",
   "execution_count": null,
   "id": "332ec353",
   "metadata": {},
   "outputs": [],
   "source": []
  },
  {
   "cell_type": "raw",
   "id": "5d26f6ac",
   "metadata": {},
   "source": [
    "8. What exactly is a channel?"
   ]
  },
  {
   "cell_type": "raw",
   "id": "97d35b1c",
   "metadata": {},
   "source": [
    "ans:\n",
    "In computer vision, a channel is a matrix of numbers that describes the intensity of a particular feature, such as color or light, in an image. Each channel corresponds to a different feature of the image, such as red, green, blue, hue, saturation, and luminance. A color image typically contains three channels, one for each of the primary colors, while a black-and-white image only has one.\n",
    "\n",
    "\n",
    "The term channel (and also feature, often used interchangeably) refers to the size of the second axis of a weight matrix, which is, the number of activations per grid cell after a convolution."
   ]
  },
  {
   "cell_type": "code",
   "execution_count": null,
   "id": "49190fad",
   "metadata": {},
   "outputs": [],
   "source": []
  },
  {
   "cell_type": "raw",
   "id": "c8055237",
   "metadata": {},
   "source": [
    "9.Explain relationship between matrix multiplication and a convolution?"
   ]
  },
  {
   "cell_type": "raw",
   "id": "51cfab89",
   "metadata": {},
   "source": [
    "ans:\n",
    "Matrix multiplication and convolution are closely related. Matrix multiplication is a way of combining two matrices, while convolution is a way of combining two functions. In both cases, the result of the combination is a new matrix or function. In matrix multiplication, the new matrix is the product of the two matrices. In convolution, the new function is the convolution of the two functions. Therefore, both operations can be seen as combining two elements to form a new, more complex element."
   ]
  },
  {
   "cell_type": "code",
   "execution_count": null,
   "id": "bafb4da7",
   "metadata": {},
   "outputs": [],
   "source": []
  }
 ],
 "metadata": {
  "kernelspec": {
   "display_name": "Python 3",
   "language": "python",
   "name": "python3"
  },
  "language_info": {
   "codemirror_mode": {
    "name": "ipython",
    "version": 3
   },
   "file_extension": ".py",
   "mimetype": "text/x-python",
   "name": "python",
   "nbconvert_exporter": "python",
   "pygments_lexer": "ipython3",
   "version": "3.8.8"
  }
 },
 "nbformat": 4,
 "nbformat_minor": 5
}
